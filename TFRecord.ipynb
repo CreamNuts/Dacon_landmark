{
  "nbformat": 4,
  "nbformat_minor": 0,
  "metadata": {
    "colab": {
      "name": "TFRecord.ipynb",
      "provenance": [],
      "private_outputs": true,
      "authorship_tag": "ABX9TyMpQv9cKCYNhBz7k7jqbpvt",
      "include_colab_link": true
    },
    "kernelspec": {
      "name": "python3",
      "display_name": "Python 3"
    }
  },
  "cells": [
    {
      "cell_type": "markdown",
      "metadata": {
        "id": "view-in-github",
        "colab_type": "text"
      },
      "source": [
        "<a href=\"https://colab.research.google.com/github/py-tonic/dacon_landmark/blob/main/TFRecord.ipynb\" target=\"_parent\"><img src=\"https://colab.research.google.com/assets/colab-badge.svg\" alt=\"Open In Colab\"/></a>"
      ]
    },
    {
      "cell_type": "code",
      "metadata": {
        "id": "Xjp3dk9SZNWS"
      },
      "source": [
        "from google.colab import drive\n",
        "drive.mount('/content/drive')"
      ],
      "execution_count": null,
      "outputs": []
    },
    {
      "cell_type": "code",
      "metadata": {
        "id": "lL175tRCwX18"
      },
      "source": [
        "!cd / | mkdir data "
      ],
      "execution_count": null,
      "outputs": []
    },
    {
      "cell_type": "code",
      "metadata": {
        "id": "0L0sc-xUwgM2"
      },
      "source": [
        "!cd /data | mkdir train_new"
      ],
      "execution_count": null,
      "outputs": []
    },
    {
      "cell_type": "code",
      "metadata": {
        "id": "HTVXxXPSwhzc"
      },
      "source": [
        "cd /content/drive/My Drive/dacon/public/train_new"
      ],
      "execution_count": null,
      "outputs": []
    },
    {
      "cell_type": "code",
      "metadata": {
        "id": "9ncdfDiYz0RK"
      },
      "source": [
        "%%time\n",
        "!zip -r -qq class.zip /content/drive/My\\ Drive/dacon/public/train_new"
      ],
      "execution_count": null,
      "outputs": []
    },
    {
      "cell_type": "code",
      "metadata": {
        "id": "of3PEhAuxL7L"
      },
      "source": [
        "import shutil\n",
        "shutil.move('all.zip','/data/train_new')"
      ],
      "execution_count": null,
      "outputs": []
    },
    {
      "cell_type": "code",
      "metadata": {
        "id": "JeNzlUrtyrVH"
      },
      "source": [
        "cd /data/train_new"
      ],
      "execution_count": null,
      "outputs": []
    },
    {
      "cell_type": "code",
      "metadata": {
        "id": "7N6lpp_w0ARF"
      },
      "source": [
        "!unzip --qq all.zip"
      ],
      "execution_count": null,
      "outputs": []
    },
    {
      "cell_type": "code",
      "metadata": {
        "id": "oOwIZXUl0DmQ"
      },
      "source": [
        "cd /content/drive/My Drive/dacon/public/"
      ],
      "execution_count": null,
      "outputs": []
    },
    {
      "cell_type": "code",
      "metadata": {
        "id": "_4cCU9f70j_q"
      },
      "source": [
        "cd /"
      ],
      "execution_count": null,
      "outputs": []
    },
    {
      "cell_type": "code",
      "metadata": {
        "id": "NRSVzfvN0SaF"
      },
      "source": [
        "shutil.move('/content/drive/My Drive/dacon/public/train.csv','/data')"
      ],
      "execution_count": null,
      "outputs": []
    },
    {
      "cell_type": "code",
      "metadata": {
        "id": "QV5MjlsW0olc"
      },
      "source": [
        "import os\n",
        "import unicodedata\n",
        "import pandas as pd\n",
        "import numpy as np\n",
        "from tqdm import tqdm\n",
        "from PIL import Image\n",
        "from pathlib import Path\n",
        "\n",
        "from torch.utils.data import Dataset,DataLoader\n",
        "from torchvision import transforms\n",
        "class Dacon(Dataset):\n",
        "    def __init__(self, test=False, transform=None):\n",
        "        csv_file_path = os.path.join(os.getcwd(),'train.csv')\n",
        "        self.csv_data = pd.read_csv(csv_file_path, header=0,engine='python')\n",
        "        self.image_paths = sorted(list(Path(os.getcwd()+'/train_new').rglob('*.JPG')))\n",
        "        \n",
        "        label_cnt = len(self.csv_data.index)\n",
        "        image_cnt = len(self.image_paths)\n",
        "        assert label_cnt == image_cnt\n",
        "        self.length = label_cnt\n",
        "        self.transform = transform\n",
        "\n",
        "    def __len__(self):\n",
        "        return self.length\n",
        "    \n",
        "    def __getitem__(self, idx):\n",
        "        img_path = self.image_paths[idx]\n",
        "        img = Image.open(img_path)\n",
        "        img = img.resize((256,256))\n",
        "        if self.transform:\n",
        "            img = self.transform(img)\n",
        "        img_id = '.'.join(img_path.name.split('.')[:-1])\n",
        "        img_id = unicodedata.normalize('NFC',img_id)\n",
        "        label = self.csv_data.loc[self.csv_data['id']== img_id]['landmark_id'].item()\n",
        "        label = np.array(label)\n",
        "        \n",
        "        return {'image':img, 'label':label}"
      ],
      "execution_count": null,
      "outputs": []
    },
    {
      "cell_type": "code",
      "metadata": {
        "id": "33YxufB71E6q"
      },
      "source": [
        "cd /data"
      ],
      "execution_count": null,
      "outputs": []
    },
    {
      "cell_type": "code",
      "metadata": {
        "id": "1daHqlcm0-aT"
      },
      "source": [
        "%%time\n",
        "dataset = Dacon(transform=transforms.ToTensor())\n",
        "print(f'Data Count: {len(dataset)}')\n",
        "print(dataset[0])"
      ],
      "execution_count": null,
      "outputs": []
    },
    {
      "cell_type": "code",
      "metadata": {
        "id": "njZfCazL1N_M"
      },
      "source": [
        "t = list(Path(os.getcwd()+'/train_new').rglob('*.JPG'))"
      ],
      "execution_count": null,
      "outputs": []
    },
    {
      "cell_type": "code",
      "metadata": {
        "id": "_vv6lJZ72Dup"
      },
      "source": [
        "os.getcwd()+'/train_new'"
      ],
      "execution_count": null,
      "outputs": []
    },
    {
      "cell_type": "code",
      "metadata": {
        "id": "yOG9aey22Ea8"
      },
      "source": [
        "cd /data/train_new/0"
      ],
      "execution_count": null,
      "outputs": []
    },
    {
      "cell_type": "code",
      "metadata": {
        "id": "Hk10NpQz2Rrk"
      },
      "source": [
        "ls"
      ],
      "execution_count": null,
      "outputs": []
    },
    {
      "cell_type": "code",
      "metadata": {
        "id": "_fRfN4Lu2SID"
      },
      "source": [
        ""
      ],
      "execution_count": null,
      "outputs": []
    }
  ]
}