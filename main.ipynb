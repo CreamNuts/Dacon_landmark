{
  "nbformat": 4,
  "nbformat_minor": 0,
  "metadata": {
    "colab": {
      "name": "main.ipynb",
      "provenance": [],
      "collapsed_sections": [],
      "machine_shape": "hm",
      "authorship_tag": "ABX9TyPkL13/apxRDhGz+nI5MW6u",
      "include_colab_link": true
    },
    "kernelspec": {
      "name": "python3",
      "display_name": "Python 3"
    }
  },
  "cells": [
    {
      "cell_type": "markdown",
      "metadata": {
        "id": "view-in-github",
        "colab_type": "text"
      },
      "source": [
        "<a href=\"https://colab.research.google.com/github/py-tonic/dacon_landmark/blob/main/main.ipynb\" target=\"_parent\"><img src=\"https://colab.research.google.com/assets/colab-badge.svg\" alt=\"Open In Colab\"/></a>"
      ]
    },
    {
      "cell_type": "code",
      "metadata": {
        "id": "xUbaVAtqEkEw",
        "outputId": "4c565a16-3d03-4f20-d762-4d1ad4cc2f8b",
        "colab": {
          "base_uri": "https://localhost:8080/",
          "height": 34
        }
      },
      "source": [
        "from google.colab import drive\n",
        "drive.mount('/content/gdrive')"
      ],
      "execution_count": null,
      "outputs": [
        {
          "output_type": "stream",
          "text": [
            "Mounted at /content/gdrive\n"
          ],
          "name": "stdout"
        }
      ]
    },
    {
      "cell_type": "code",
      "metadata": {
        "id": "-9rdgIs3k4bp"
      },
      "source": [
        "import os\n",
        "import pandas as pd\n",
        "from glob import glob\n",
        "import random\n",
        "import shutil\n",
        "import natsort as nt\n",
        "import matplotlib.pyplot as plt\n",
        "import numpy as np\n",
        "import unicodedata"
      ],
      "execution_count": null,
      "outputs": []
    },
    {
      "cell_type": "code",
      "metadata": {
        "id": "mexxccAfD9m8",
        "outputId": "ff4b97ef-2701-4fc7-a468-58ef767a58be",
        "colab": {
          "base_uri": "https://localhost:8080/",
          "height": 204
        }
      },
      "source": [
        "os.chdir('/content/gdrive/My Drive/dacon/public')\n",
        "path_train = os.path.join(os.getcwd(),'train')\n",
        "path_cate_csv = os.path.join(os.getcwd(),'category.csv')\n",
        "df_cate = pd.read_csv(path_cate_csv)\n",
        "df_cate.head()"
      ],
      "execution_count": null,
      "outputs": [
        {
          "output_type": "execute_result",
          "data": {
            "text/html": [
              "<div>\n",
              "<style scoped>\n",
              "    .dataframe tbody tr th:only-of-type {\n",
              "        vertical-align: middle;\n",
              "    }\n",
              "\n",
              "    .dataframe tbody tr th {\n",
              "        vertical-align: top;\n",
              "    }\n",
              "\n",
              "    .dataframe thead th {\n",
              "        text-align: right;\n",
              "    }\n",
              "</style>\n",
              "<table border=\"1\" class=\"dataframe\">\n",
              "  <thead>\n",
              "    <tr style=\"text-align: right;\">\n",
              "      <th></th>\n",
              "      <th>landmark_id</th>\n",
              "      <th>landmark_name</th>\n",
              "    </tr>\n",
              "  </thead>\n",
              "  <tbody>\n",
              "    <tr>\n",
              "      <th>0</th>\n",
              "      <td>0</td>\n",
              "      <td>금천구청</td>\n",
              "    </tr>\n",
              "    <tr>\n",
              "      <th>1</th>\n",
              "      <td>1</td>\n",
              "      <td>두리랜드</td>\n",
              "    </tr>\n",
              "    <tr>\n",
              "      <th>2</th>\n",
              "      <td>2</td>\n",
              "      <td>이대원 장군묘</td>\n",
              "    </tr>\n",
              "    <tr>\n",
              "      <th>3</th>\n",
              "      <td>3</td>\n",
              "      <td>성공회대학교</td>\n",
              "    </tr>\n",
              "    <tr>\n",
              "      <th>4</th>\n",
              "      <td>4</td>\n",
              "      <td>송상현공 동상</td>\n",
              "    </tr>\n",
              "  </tbody>\n",
              "</table>\n",
              "</div>"
            ],
            "text/plain": [
              "   landmark_id landmark_name\n",
              "0            0          금천구청\n",
              "1            1          두리랜드\n",
              "2            2       이대원 장군묘\n",
              "3            3        성공회대학교\n",
              "4            4       송상현공 동상"
            ]
          },
          "metadata": {
            "tags": []
          },
          "execution_count": 12
        }
      ]
    },
    {
      "cell_type": "code",
      "metadata": {
        "id": "-YXuqbflFbDa"
      },
      "source": [
        "category = dict(df_cate.values[:,::-1])"
      ],
      "execution_count": null,
      "outputs": []
    },
    {
      "cell_type": "code",
      "metadata": {
        "id": "l1JrbVdkEihq",
        "outputId": "6adb05b3-ce10-4d5d-d155-559c0596ed91",
        "colab": {
          "base_uri": "https://localhost:8080/",
          "height": 51
        }
      },
      "source": [
        "%%time\n",
        "train_list = glob(os.path.join(path_train,'*','*','*.JPG'))"
      ],
      "execution_count": null,
      "outputs": [
        {
          "output_type": "stream",
          "text": [
            "CPU times: user 553 ms, sys: 254 ms, total: 807 ms\n",
            "Wall time: 2min 56s\n"
          ],
          "name": "stdout"
        }
      ]
    },
    {
      "cell_type": "code",
      "metadata": {
        "id": "G8904_sCHEPj"
      },
      "source": [
        "def load_class_idx_from_path(img_path, category_dict):\n",
        "    filename = os.path.basename(img_path)\n",
        "    class_name = unicodedata.normalize('NFC',' '.join(filename.split('_')[:-1]))\n",
        "    #print(filename)\n",
        "    #print(class_name)\n",
        "    if class_name == '이케아 광명':\n",
        "        class_name = '이케아_광명'\n",
        "    if class_name == '이케아 고양':\n",
        "        class_name = '이케아_고양'\n",
        "    return category_dict[class_name]\n",
        "\n",
        "path_train_new = os.path.join(os.getcwd(), 'train_new')\n",
        "\n",
        "def make_folder(folder_name):\n",
        "    if not os.path.isdir(folder_name):\n",
        "        os.mkdir(folder_name)\n",
        "make_folder(path_train_new)"
      ],
      "execution_count": null,
      "outputs": []
    },
    {
      "cell_type": "code",
      "metadata": {
        "id": "UisHijavL-DK",
        "outputId": "3c968613-a07c-463e-b50c-758632b43a64",
        "colab": {
          "base_uri": "https://localhost:8080/",
          "height": 51
        }
      },
      "source": [
        "%%time\n",
        "for i in range(len(category)):\n",
        "    path_train_class = os.path.join(path_train_new, str(i))\n",
        "    make_folder(path_train_class)\n",
        "\n",
        "for i, image in enumerate(train_list):\n",
        "    idx = image.rfind('/')\n",
        "    image_name = image[idx:]\n",
        "    class_id = load_class_idx_from_path(image, category)\n",
        "    path_shutil = os.path.join(path_train_new, str(class_id)  + image_name)\n",
        "\n",
        "    try:\n",
        "        shutil.move(image, path_shutil)\n",
        "    except FileNotFoundError:\n",
        "        pass"
      ],
      "execution_count": null,
      "outputs": [
        {
          "output_type": "stream",
          "text": [
            "CPU times: user 19.1 s, sys: 27.5 s, total: 46.6 s\n",
            "Wall time: 5min 58s\n"
          ],
          "name": "stdout"
        }
      ]
    },
    {
      "cell_type": "code",
      "metadata": {
        "id": "KNhUeY9bi4zK"
      },
      "source": [
        "class_list = nt.natsorted(os.listdir(path_train_new))\n",
        "class_id_list = []\n",
        "image_len_list = []\n",
        "for i in range(len(class_list)):\n",
        "    path_train_image = os.path.join(path_train_new, class_list[i])\n",
        "    image_list = os.listdir(path_train_image)\n",
        "    class_id_list.append(i)\n",
        "    image_len_list.append(len(image_list))"
      ],
      "execution_count": null,
      "outputs": []
    },
    {
      "cell_type": "code",
      "metadata": {
        "id": "JDa4dPcEkzlw",
        "outputId": "b054b1c0-eab5-47da-a3e1-b8fad49a89d4",
        "colab": {
          "base_uri": "https://localhost:8080/",
          "height": 330
        }
      },
      "source": [
        "cmap = plt.cm.tab10\n",
        "colors = cmap(np.arange(len(class_id_list)) % cmap.N)\n",
        "plt.figure(figsize=(20,10))\n",
        "plt.bar(class_id_list,image_len_list, color=colors)\n",
        "plt.show()"
      ],
      "execution_count": null,
      "outputs": [
        {
          "output_type": "display_data",
          "data": {
            "image/png": "[encoded data removed]",
            "text/plain": [
              "<Figure size 1440x720 with 1 Axes>"
            ]
          },
          "metadata": {
            "tags": [],
            "needs_background": "light"
          }
        }
      ]
    },
    {
      "cell_type": "code",
      "metadata": {
        "id": "sAcfxuKpk32J",
        "outputId": "be44ffaa-3662-4220-d5cf-a801f4cc6485",
        "colab": {
          "base_uri": "https://localhost:8080/",
          "height": 330
        }
      },
      "source": [
        "cmap = plt.cm.tab10\n",
        "colors = cmap(np.arange(len(class_id_list)) % cmap.N)\n",
        "plt.figure(figsize=(20,10))\n",
        "plt.bar(class_id_list[0:100],image_len_list[0:100], color=colors)\n",
        "plt.show()"
      ],
      "execution_count": null,
      "outputs": [
        {
          "output_type": "display_data",
          "data": {
            "image/png": "[encoded data removed]",
            "text/plain": [
              "<Figure size 1440x720 with 1 Axes>"
            ]
          },
          "metadata": {
            "tags": [],
            "needs_background": "light"
          }
        }
      ]
    },
    {
      "cell_type": "markdown",
      "metadata": {
        "id": "f6F2smhbrYZN"
      },
      "source": [
        "#Training code from here!"
      ]
    },
    {
      "cell_type": "code",
      "metadata": {
        "id": "2L94Tcb3k7hV"
      },
      "source": [
        "from torch.utils.data import Dataset\n",
        "from torchvision import transforms\n",
        "from pathlib import Path\n",
        "from PIL import Image\n",
        "import os\n",
        "import pandas as pd\n",
        "import numpy as np\n",
        "\n",
        "os.chdir('/content/gdrive/My Drive/dacon/public')"
      ],
      "execution_count": null,
      "outputs": []
    },
    {
      "cell_type": "code",
      "metadata": {
        "id": "DvSumu-StKK9"
      },
      "source": [
        "def escape_unicode(input_str: str):\n",
        "    result = input_str.replace('#U', '\\\\u')     \\\n",
        "                      .encode('utf-8')          \\\n",
        "                      .decode('unicode_escape')\n",
        "    return result"
      ],
      "execution_count": null,
      "outputs": []
    },
    {
      "cell_type": "code",
      "metadata": {
        "id": "h1soWiLBnDDd"
      },
      "source": [
        "class Dacon(Dataset):\n",
        "    def __init__(self, transform=None):\n",
        "        csv_file_path = os.path.join(os.getcwd(),'train.csv')\n",
        "        self.csv_data = pd.read_csv(csv_file_path, header=0)\n",
        "        self.image_paths = sorted(list(Path(os.getcwd()+'/train_new').rglob('*.JPG')))\n",
        "        \n",
        "        label_cnt = len(self.csv_data.index)\n",
        "        image_cnt = len(self.image_paths)\n",
        "        assert label_cnt == image_cnt\n",
        "        self.length = label_cnt\n",
        "        self.transform = transform\n",
        "    def __len__(self):\n",
        "        return self.length\n",
        "    \n",
        "    def __getitem__(self, idx):\n",
        "        img_path = self.image_paths[idx]\n",
        "        img = Image.open(img_path)\n",
        "        img = np.array(img)\n",
        "        if self.transform:\n",
        "            img = self.transform(img)\n",
        "        #Get Label\n",
        "        img_id = '.'.join(img_path.name.split('.')[:-1])\n",
        "        img_id = unicodedata.normalize('NFC',img_id)\n",
        "        label = self.csv_data.loc[self.csv_data['id']== img_id]['landmark_id'].item()\n",
        "        label = np.array(label)\n",
        "        #Make Sample\n",
        "        sample = {\n",
        "            'img': img,\n",
        "            'img_id': img_id,\n",
        "            'label': label\n",
        "        }\n",
        "        return sample"
      ],
      "execution_count": null,
      "outputs": []
    },
    {
      "cell_type": "code",
      "metadata": {
        "id": "RvPUCs_mowMo",
        "outputId": "8cf94dc1-0b46-4faa-adaa-aa08998d1a93",
        "colab": {
          "base_uri": "https://localhost:8080/",
          "height": 445
        }
      },
      "source": [
        "dataset = Dacon(transform=transforms.ToTensor())\n",
        "print(f'Data Count: {len(dataset)}')\n",
        "print(dataset[0])"
      ],
      "execution_count": null,
      "outputs": [
        {
          "output_type": "stream",
          "text": [
            "Data Count: 88102\n",
            "{'img': tensor([[[0.8431, 0.8392, 0.8392,  ..., 0.1647, 0.2392, 0.2588],\n",
            "         [0.8471, 0.8471, 0.8471,  ..., 0.2824, 0.3176, 0.3020],\n",
            "         [0.8471, 0.8471, 0.8471,  ..., 0.7255, 0.5569, 0.3647],\n",
            "         ...,\n",
            "         [0.4824, 0.5176, 0.4863,  ..., 0.5137, 0.5294, 0.5373],\n",
            "         [0.5059, 0.4824, 0.4745,  ..., 0.5216, 0.5216, 0.5569],\n",
            "         [0.4824, 0.4706, 0.4314,  ..., 0.7137, 0.8000, 0.8275]],\n",
            "\n",
            "        [[0.8235, 0.8196, 0.8196,  ..., 0.1647, 0.2353, 0.2549],\n",
            "         [0.8275, 0.8275, 0.8275,  ..., 0.2745, 0.3059, 0.2902],\n",
            "         [0.8275, 0.8275, 0.8275,  ..., 0.7137, 0.5451, 0.3529],\n",
            "         ...,\n",
            "         [0.4667, 0.5020, 0.4706,  ..., 0.4902, 0.4941, 0.5020],\n",
            "         [0.4902, 0.4667, 0.4588,  ..., 0.4902, 0.4902, 0.5255],\n",
            "         [0.4667, 0.4549, 0.4157,  ..., 0.6824, 0.7686, 0.7882]],\n",
            "\n",
            "        [[0.8471, 0.8431, 0.8431,  ..., 0.2118, 0.2902, 0.3098],\n",
            "         [0.8510, 0.8510, 0.8510,  ..., 0.3294, 0.3725, 0.3569],\n",
            "         [0.8510, 0.8510, 0.8510,  ..., 0.7804, 0.6196, 0.4353],\n",
            "         ...,\n",
            "         [0.4627, 0.4980, 0.4667,  ..., 0.4902, 0.4980, 0.5059],\n",
            "         [0.4863, 0.4627, 0.4549,  ..., 0.4824, 0.4824, 0.5176],\n",
            "         [0.4627, 0.4510, 0.4118,  ..., 0.6745, 0.7608, 0.7843]]]), 'img_id': '금천구청_003', 'label': array(0)}\n"
          ],
          "name": "stdout"
        }
      ]
    },
    {
      "cell_type": "code",
      "metadata": {
        "id": "PXa2PDIH8Xcr"
      },
      "source": [
        ""
      ],
      "execution_count": null,
      "outputs": []
    }
  ]
}